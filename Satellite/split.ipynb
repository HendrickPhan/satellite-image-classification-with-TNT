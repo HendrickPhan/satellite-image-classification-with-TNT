{
 "cells": [
  {
   "cell_type": "code",
   "execution_count": 1,
   "metadata": {},
   "outputs": [],
   "source": [
    "import os\n",
    "import shutil\n",
    "import random\n",
    "\n",
    "dataset_path = './data'\n",
    "\n",
    "train_path = os.path.join(dataset_path, 'train')\n",
    "val_path = os.path.join(dataset_path, 'val')\n",
    "\n",
    "if not os.path.exists(train_path):\n",
    "    os.makedirs(train_path)\n",
    "\n",
    "if not os.path.exists(val_path):\n",
    "    os.makedirs(val_path)\n",
    "\n",
    "# Create train and test folders for each category\n",
    "for category in ['cloudy', 'desert', 'green_area', 'water']:\n",
    "    category_train_path = os.path.join(train_path, category)\n",
    "    category_val_path = os.path.join(val_path, category)\n",
    "\n",
    "    if not os.path.exists(category_train_path):\n",
    "        os.makedirs(category_train_path)\n",
    "\n",
    "    if not os.path.exists(category_val_path):\n",
    "        os.makedirs(category_val_path)\n",
    "\n",
    "    # Move 80% of images to train folder and 20% to test folder\n",
    "    images_path = os.path.join(dataset_path, category)\n",
    "    images = os.listdir(images_path)\n",
    "    random.shuffle(images)\n",
    "    num_train = int(len(images) * 0.8)\n",
    "    train_images = images[:num_train]\n",
    "    test_images = images[num_train:]\n",
    "\n",
    "    for image in train_images:\n",
    "        src_path = os.path.join(images_path, image)\n",
    "        dst_path = os.path.join(category_train_path, image)\n",
    "        shutil.move(src_path, dst_path)\n",
    "\n",
    "    for image in test_images:\n",
    "        src_path = os.path.join(images_path, image)\n",
    "        dst_path = os.path.join(category_val_path, image)\n",
    "        shutil.move(src_path, dst_path)"
   ]
  }
 ],
 "metadata": {
  "kernelspec": {
   "display_name": "venv",
   "language": "python",
   "name": "python3"
  },
  "language_info": {
   "codemirror_mode": {
    "name": "ipython",
    "version": 3
   },
   "file_extension": ".py",
   "mimetype": "text/x-python",
   "name": "python",
   "nbconvert_exporter": "python",
   "pygments_lexer": "ipython3",
   "version": "3.9.6"
  },
  "orig_nbformat": 4
 },
 "nbformat": 4,
 "nbformat_minor": 2
}
